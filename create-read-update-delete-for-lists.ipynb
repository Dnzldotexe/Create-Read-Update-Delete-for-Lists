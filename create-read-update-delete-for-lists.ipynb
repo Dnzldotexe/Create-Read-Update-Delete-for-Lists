{
 "cells": [
  {
   "cell_type": "markdown",
   "id": "b9ffb110",
   "metadata": {
    "papermill": {
     "duration": 0.006206,
     "end_time": "2023-04-05T09:22:35.256884",
     "exception": false,
     "start_time": "2023-04-05T09:22:35.250678",
     "status": "completed"
    },
    "tags": []
   },
   "source": [
    "# CRUD for Lists\n",
    "\n",
    "## Author: Danziel Cempron\n",
    "\n",
    "## Creation Date: April 5, 2023"
   ]
  },
  {
   "cell_type": "markdown",
   "id": "dd73d86e",
   "metadata": {
    "papermill": {
     "duration": 0.004536,
     "end_time": "2023-04-05T09:22:35.266617",
     "exception": false,
     "start_time": "2023-04-05T09:22:35.262081",
     "status": "completed"
    },
    "tags": []
   },
   "source": [
    "# Create"
   ]
  },
  {
   "cell_type": "code",
   "execution_count": 1,
   "id": "8127711f",
   "metadata": {
    "_cell_guid": "b1076dfc-b9ad-4769-8c92-a6c4dae69d19",
    "_uuid": "8f2839f25d086af736a60e9eeb907d3b93b6e0e5",
    "execution": {
     "iopub.execute_input": "2023-04-05T09:22:35.279409Z",
     "iopub.status.busy": "2023-04-05T09:22:35.278131Z",
     "iopub.status.idle": "2023-04-05T09:22:35.293415Z",
     "shell.execute_reply": "2023-04-05T09:22:35.292023Z"
    },
    "papermill": {
     "duration": 0.024964,
     "end_time": "2023-04-05T09:22:35.296526",
     "exception": false,
     "start_time": "2023-04-05T09:22:35.271562",
     "status": "completed"
    },
    "tags": []
   },
   "outputs": [],
   "source": [
    "# Creating a List\n",
    "sports = [\"Basketball\", \"Volleyball\", \"Soccer\", \"Badminton\"]"
   ]
  },
  {
   "cell_type": "markdown",
   "id": "9ece9f99",
   "metadata": {
    "papermill": {
     "duration": 0.005007,
     "end_time": "2023-04-05T09:22:35.306509",
     "exception": false,
     "start_time": "2023-04-05T09:22:35.301502",
     "status": "completed"
    },
    "tags": []
   },
   "source": [
    "# Read"
   ]
  },
  {
   "cell_type": "code",
   "execution_count": 2,
   "id": "e51f9ee9",
   "metadata": {
    "execution": {
     "iopub.execute_input": "2023-04-05T09:22:35.318812Z",
     "iopub.status.busy": "2023-04-05T09:22:35.318399Z",
     "iopub.status.idle": "2023-04-05T09:22:35.324769Z",
     "shell.execute_reply": "2023-04-05T09:22:35.323279Z"
    },
    "papermill": {
     "duration": 0.016161,
     "end_time": "2023-04-05T09:22:35.327716",
     "exception": false,
     "start_time": "2023-04-05T09:22:35.311555",
     "status": "completed"
    },
    "tags": []
   },
   "outputs": [
    {
     "name": "stdout",
     "output_type": "stream",
     "text": [
      "['Basketball', 'Volleyball', 'Soccer', 'Badminton']\n"
     ]
    }
   ],
   "source": [
    "# Reading a List\n",
    "print(sports)"
   ]
  },
  {
   "cell_type": "code",
   "execution_count": 3,
   "id": "68645c8b",
   "metadata": {
    "execution": {
     "iopub.execute_input": "2023-04-05T09:22:35.339384Z",
     "iopub.status.busy": "2023-04-05T09:22:35.338945Z",
     "iopub.status.idle": "2023-04-05T09:22:35.348315Z",
     "shell.execute_reply": "2023-04-05T09:22:35.346835Z"
    },
    "papermill": {
     "duration": 0.018417,
     "end_time": "2023-04-05T09:22:35.351053",
     "exception": false,
     "start_time": "2023-04-05T09:22:35.332636",
     "status": "completed"
    },
    "tags": []
   },
   "outputs": [
    {
     "data": {
      "text/plain": [
       "'Basketball'"
      ]
     },
     "execution_count": 3,
     "metadata": {},
     "output_type": "execute_result"
    }
   ],
   "source": [
    "# Reading a specific item/value in the List\n",
    "# Reading the first position in the list\n",
    "sports[0]"
   ]
  },
  {
   "cell_type": "code",
   "execution_count": 4,
   "id": "11db864c",
   "metadata": {
    "execution": {
     "iopub.execute_input": "2023-04-05T09:22:35.364410Z",
     "iopub.status.busy": "2023-04-05T09:22:35.363147Z",
     "iopub.status.idle": "2023-04-05T09:22:35.372158Z",
     "shell.execute_reply": "2023-04-05T09:22:35.370896Z"
    },
    "papermill": {
     "duration": 0.01863,
     "end_time": "2023-04-05T09:22:35.374852",
     "exception": false,
     "start_time": "2023-04-05T09:22:35.356222",
     "status": "completed"
    },
    "tags": []
   },
   "outputs": [
    {
     "data": {
      "text/plain": [
       "'Badminton'"
      ]
     },
     "execution_count": 4,
     "metadata": {},
     "output_type": "execute_result"
    }
   ],
   "source": [
    "# Reading the last value in the list\n",
    "sports[-1]"
   ]
  },
  {
   "cell_type": "markdown",
   "id": "32f13c0f",
   "metadata": {
    "papermill": {
     "duration": 0.00527,
     "end_time": "2023-04-05T09:22:35.385706",
     "exception": false,
     "start_time": "2023-04-05T09:22:35.380436",
     "status": "completed"
    },
    "tags": []
   },
   "source": [
    "# Update"
   ]
  },
  {
   "cell_type": "code",
   "execution_count": 5,
   "id": "04883e32",
   "metadata": {
    "execution": {
     "iopub.execute_input": "2023-04-05T09:22:35.398839Z",
     "iopub.status.busy": "2023-04-05T09:22:35.398414Z",
     "iopub.status.idle": "2023-04-05T09:22:35.407527Z",
     "shell.execute_reply": "2023-04-05T09:22:35.406124Z"
    },
    "papermill": {
     "duration": 0.019193,
     "end_time": "2023-04-05T09:22:35.410181",
     "exception": false,
     "start_time": "2023-04-05T09:22:35.390988",
     "status": "completed"
    },
    "tags": []
   },
   "outputs": [
    {
     "data": {
      "text/plain": [
       "'Football'"
      ]
     },
     "execution_count": 5,
     "metadata": {},
     "output_type": "execute_result"
    }
   ],
   "source": [
    "# Changing the value of a specific item in the List\n",
    "sports[-2] = \"Football\"\n",
    "\n",
    "sports[-2]"
   ]
  },
  {
   "cell_type": "code",
   "execution_count": 6,
   "id": "2cde0864",
   "metadata": {
    "execution": {
     "iopub.execute_input": "2023-04-05T09:22:35.423695Z",
     "iopub.status.busy": "2023-04-05T09:22:35.423134Z",
     "iopub.status.idle": "2023-04-05T09:22:35.427836Z",
     "shell.execute_reply": "2023-04-05T09:22:35.426805Z"
    },
    "papermill": {
     "duration": 0.014825,
     "end_time": "2023-04-05T09:22:35.430325",
     "exception": false,
     "start_time": "2023-04-05T09:22:35.415500",
     "status": "completed"
    },
    "tags": []
   },
   "outputs": [],
   "source": [
    "# Add an additional value to the end of the List\n",
    "sports.append(\"Soccer\")"
   ]
  },
  {
   "cell_type": "code",
   "execution_count": 7,
   "id": "571ea4fe",
   "metadata": {
    "execution": {
     "iopub.execute_input": "2023-04-05T09:22:35.444319Z",
     "iopub.status.busy": "2023-04-05T09:22:35.443438Z",
     "iopub.status.idle": "2023-04-05T09:22:35.450609Z",
     "shell.execute_reply": "2023-04-05T09:22:35.448582Z"
    },
    "papermill": {
     "duration": 0.017985,
     "end_time": "2023-04-05T09:22:35.454285",
     "exception": false,
     "start_time": "2023-04-05T09:22:35.436300",
     "status": "completed"
    },
    "tags": []
   },
   "outputs": [
    {
     "name": "stdout",
     "output_type": "stream",
     "text": [
      "['Basketball', 'Volleyball', 'Football', 'Badminton', 'Soccer']\n"
     ]
    }
   ],
   "source": [
    "print(sports)"
   ]
  },
  {
   "cell_type": "code",
   "execution_count": 8,
   "id": "f95540c4",
   "metadata": {
    "execution": {
     "iopub.execute_input": "2023-04-05T09:22:35.467644Z",
     "iopub.status.busy": "2023-04-05T09:22:35.467226Z",
     "iopub.status.idle": "2023-04-05T09:22:35.534728Z",
     "shell.execute_reply": "2023-04-05T09:22:35.533590Z"
    },
    "papermill": {
     "duration": 0.077981,
     "end_time": "2023-04-05T09:22:35.537717",
     "exception": false,
     "start_time": "2023-04-05T09:22:35.459736",
     "status": "completed"
    },
    "tags": []
   },
   "outputs": [],
   "source": [
    "# Using 2 question marks to ask the Notebook to describe how something works\n",
    "sports.insert??"
   ]
  },
  {
   "cell_type": "code",
   "execution_count": 9,
   "id": "d7285561",
   "metadata": {
    "execution": {
     "iopub.execute_input": "2023-04-05T09:22:35.551037Z",
     "iopub.status.busy": "2023-04-05T09:22:35.550552Z",
     "iopub.status.idle": "2023-04-05T09:22:35.557514Z",
     "shell.execute_reply": "2023-04-05T09:22:35.555967Z"
    },
    "papermill": {
     "duration": 0.017642,
     "end_time": "2023-04-05T09:22:35.560650",
     "exception": false,
     "start_time": "2023-04-05T09:22:35.543008",
     "status": "completed"
    },
    "tags": []
   },
   "outputs": [
    {
     "name": "stdout",
     "output_type": "stream",
     "text": [
      "['Basketball', 'Tennis', 'Volleyball', 'Football', 'Badminton', 'Soccer']\n"
     ]
    }
   ],
   "source": [
    "# Add an additional value to a specific position in the List\n",
    "sports.insert(1, \"Tennis\")\n",
    "\n",
    "print(sports)"
   ]
  },
  {
   "cell_type": "markdown",
   "id": "fc0c83c0",
   "metadata": {
    "papermill": {
     "duration": 0.005024,
     "end_time": "2023-04-05T09:22:35.571090",
     "exception": false,
     "start_time": "2023-04-05T09:22:35.566066",
     "status": "completed"
    },
    "tags": []
   },
   "source": [
    "# Delete"
   ]
  },
  {
   "cell_type": "code",
   "execution_count": 10,
   "id": "bee548ba",
   "metadata": {
    "execution": {
     "iopub.execute_input": "2023-04-05T09:22:35.584439Z",
     "iopub.status.busy": "2023-04-05T09:22:35.583172Z",
     "iopub.status.idle": "2023-04-05T09:22:35.589323Z",
     "shell.execute_reply": "2023-04-05T09:22:35.587740Z"
    },
    "papermill": {
     "duration": 0.015728,
     "end_time": "2023-04-05T09:22:35.592223",
     "exception": false,
     "start_time": "2023-04-05T09:22:35.576495",
     "status": "completed"
    },
    "tags": []
   },
   "outputs": [],
   "source": [
    "# Deleting a specific value in the List\n",
    "del sports[1]"
   ]
  },
  {
   "cell_type": "code",
   "execution_count": 11,
   "id": "37d059ed",
   "metadata": {
    "execution": {
     "iopub.execute_input": "2023-04-05T09:22:35.606299Z",
     "iopub.status.busy": "2023-04-05T09:22:35.605856Z",
     "iopub.status.idle": "2023-04-05T09:22:35.614028Z",
     "shell.execute_reply": "2023-04-05T09:22:35.612613Z"
    },
    "papermill": {
     "duration": 0.019021,
     "end_time": "2023-04-05T09:22:35.616775",
     "exception": false,
     "start_time": "2023-04-05T09:22:35.597754",
     "status": "completed"
    },
    "tags": []
   },
   "outputs": [
    {
     "data": {
      "text/plain": [
       "['Basketball', 'Volleyball', 'Football', 'Badminton', 'Soccer']"
      ]
     },
     "execution_count": 11,
     "metadata": {},
     "output_type": "execute_result"
    }
   ],
   "source": [
    "sports"
   ]
  },
  {
   "cell_type": "code",
   "execution_count": 12,
   "id": "376b0d75",
   "metadata": {
    "execution": {
     "iopub.execute_input": "2023-04-05T09:22:35.630108Z",
     "iopub.status.busy": "2023-04-05T09:22:35.629654Z",
     "iopub.status.idle": "2023-04-05T09:22:35.635366Z",
     "shell.execute_reply": "2023-04-05T09:22:35.633817Z"
    },
    "papermill": {
     "duration": 0.015819,
     "end_time": "2023-04-05T09:22:35.638187",
     "exception": false,
     "start_time": "2023-04-05T09:22:35.622368",
     "status": "completed"
    },
    "tags": []
   },
   "outputs": [],
   "source": [
    "# Deleting a specific value in the List\n",
    "del sports[-1]"
   ]
  },
  {
   "cell_type": "code",
   "execution_count": 13,
   "id": "2284ce6d",
   "metadata": {
    "execution": {
     "iopub.execute_input": "2023-04-05T09:22:35.651326Z",
     "iopub.status.busy": "2023-04-05T09:22:35.650888Z",
     "iopub.status.idle": "2023-04-05T09:22:35.658637Z",
     "shell.execute_reply": "2023-04-05T09:22:35.657317Z"
    },
    "papermill": {
     "duration": 0.017382,
     "end_time": "2023-04-05T09:22:35.661178",
     "exception": false,
     "start_time": "2023-04-05T09:22:35.643796",
     "status": "completed"
    },
    "tags": []
   },
   "outputs": [
    {
     "data": {
      "text/plain": [
       "['Basketball', 'Volleyball', 'Football', 'Badminton']"
      ]
     },
     "execution_count": 13,
     "metadata": {},
     "output_type": "execute_result"
    }
   ],
   "source": [
    "sports"
   ]
  }
 ],
 "metadata": {
  "kernelspec": {
   "display_name": "Python 3",
   "language": "python",
   "name": "python3"
  },
  "language_info": {
   "codemirror_mode": {
    "name": "ipython",
    "version": 3
   },
   "file_extension": ".py",
   "mimetype": "text/x-python",
   "name": "python",
   "nbconvert_exporter": "python",
   "pygments_lexer": "ipython3",
   "version": "3.7.12"
  },
  "papermill": {
   "default_parameters": {},
   "duration": 14.943757,
   "end_time": "2023-04-05T09:22:36.491649",
   "environment_variables": {},
   "exception": null,
   "input_path": "__notebook__.ipynb",
   "output_path": "__notebook__.ipynb",
   "parameters": {},
   "start_time": "2023-04-05T09:22:21.547892",
   "version": "2.4.0"
  }
 },
 "nbformat": 4,
 "nbformat_minor": 5
}
