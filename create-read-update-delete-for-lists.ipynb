{
 "cells": [
  {
   "cell_type": "markdown",
   "id": "64ea6c93",
   "metadata": {
    "papermill": {
     "duration": 0.003461,
     "end_time": "2023-04-05T08:07:48.793692",
     "exception": false,
     "start_time": "2023-04-05T08:07:48.790231",
     "status": "completed"
    },
    "tags": []
   },
   "source": [
    "# CRUD for Lists\n",
    "\n",
    "## Author: Danziel Cempron\n",
    "\n",
    "## Creation Date: April 5, 2023"
   ]
  },
  {
   "cell_type": "markdown",
   "id": "a4fa53bc",
   "metadata": {
    "papermill": {
     "duration": 0.001958,
     "end_time": "2023-04-05T08:07:48.798260",
     "exception": false,
     "start_time": "2023-04-05T08:07:48.796302",
     "status": "completed"
    },
    "tags": []
   },
   "source": [
    "# Create"
   ]
  },
  {
   "cell_type": "code",
   "execution_count": null,
   "id": "854aeadb",
   "metadata": {
    "_cell_guid": "b1076dfc-b9ad-4769-8c92-a6c4dae69d19",
    "_uuid": "8f2839f25d086af736a60e9eeb907d3b93b6e0e5",
    "papermill": {
     "duration": 0.001957,
     "end_time": "2023-04-05T08:07:48.802484",
     "exception": false,
     "start_time": "2023-04-05T08:07:48.800527",
     "status": "completed"
    },
    "tags": []
   },
   "outputs": [],
   "source": []
  },
  {
   "cell_type": "markdown",
   "id": "2b11aa17",
   "metadata": {
    "papermill": {
     "duration": 0.002061,
     "end_time": "2023-04-05T08:07:48.806704",
     "exception": false,
     "start_time": "2023-04-05T08:07:48.804643",
     "status": "completed"
    },
    "tags": []
   },
   "source": [
    "# Read"
   ]
  },
  {
   "cell_type": "code",
   "execution_count": null,
   "id": "a5d49b5a",
   "metadata": {
    "papermill": {
     "duration": 0.001962,
     "end_time": "2023-04-05T08:07:48.810943",
     "exception": false,
     "start_time": "2023-04-05T08:07:48.808981",
     "status": "completed"
    },
    "tags": []
   },
   "outputs": [],
   "source": []
  },
  {
   "cell_type": "markdown",
   "id": "88b9dd0e",
   "metadata": {
    "papermill": {
     "duration": 0.002163,
     "end_time": "2023-04-05T08:07:48.815422",
     "exception": false,
     "start_time": "2023-04-05T08:07:48.813259",
     "status": "completed"
    },
    "tags": []
   },
   "source": [
    "# Update"
   ]
  },
  {
   "cell_type": "code",
   "execution_count": null,
   "id": "b08e8af2",
   "metadata": {
    "papermill": {
     "duration": 0.00203,
     "end_time": "2023-04-05T08:07:48.819723",
     "exception": false,
     "start_time": "2023-04-05T08:07:48.817693",
     "status": "completed"
    },
    "tags": []
   },
   "outputs": [],
   "source": []
  },
  {
   "cell_type": "markdown",
   "id": "eb12f70a",
   "metadata": {
    "papermill": {
     "duration": 0.002031,
     "end_time": "2023-04-05T08:07:48.823989",
     "exception": false,
     "start_time": "2023-04-05T08:07:48.821958",
     "status": "completed"
    },
    "tags": []
   },
   "source": [
    "# Delete"
   ]
  },
  {
   "cell_type": "code",
   "execution_count": null,
   "id": "af2a8469",
   "metadata": {
    "papermill": {
     "duration": 0.002021,
     "end_time": "2023-04-05T08:07:48.828285",
     "exception": false,
     "start_time": "2023-04-05T08:07:48.826264",
     "status": "completed"
    },
    "tags": []
   },
   "outputs": [],
   "source": []
  }
 ],
 "metadata": {
  "kernelspec": {
   "display_name": "Python 3",
   "language": "python",
   "name": "python3"
  },
  "language_info": {
   "codemirror_mode": {
    "name": "ipython",
    "version": 3
   },
   "file_extension": ".py",
   "mimetype": "text/x-python",
   "name": "python",
   "nbconvert_exporter": "python",
   "pygments_lexer": "ipython3",
   "version": "3.7.12"
  },
  "papermill": {
   "default_parameters": {},
   "duration": 10.183981,
   "end_time": "2023-04-05T08:07:49.455046",
   "environment_variables": {},
   "exception": null,
   "input_path": "__notebook__.ipynb",
   "output_path": "__notebook__.ipynb",
   "parameters": {},
   "start_time": "2023-04-05T08:07:39.271065",
   "version": "2.4.0"
  }
 },
 "nbformat": 4,
 "nbformat_minor": 5
}
